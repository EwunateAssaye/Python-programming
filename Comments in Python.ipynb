{
 "cells": [
  {
   "cell_type": "markdown",
   "id": "e0fe3b53",
   "metadata": {},
   "source": [
    "# Comments in Python"
   ]
  },
  {
   "cell_type": "code",
   "execution_count": 1,
   "id": "32c1dc97",
   "metadata": {},
   "outputs": [
    {
     "ename": "SyntaxError",
     "evalue": "invalid syntax (826015895.py, line 16)",
     "output_type": "error",
     "traceback": [
      "\u001b[1;36m  Cell \u001b[1;32mIn[1], line 16\u001b[1;36m\u001b[0m\n\u001b[1;33m    good morning\u001b[0m\n\u001b[1;37m         ^\u001b[0m\n\u001b[1;31mSyntaxError\u001b[0m\u001b[1;31m:\u001b[0m invalid syntax\n"
     ]
    }
   ],
   "source": [
    "# hello dear, how you doing\n",
    "\n",
    "\n",
    "'''\n",
    "hello there \n",
    "'''\n",
    "\n",
    "\"\"\"\n",
    "hello dear brothers \n",
    "how you doing \n",
    "how is every thing\n",
    "\"\"\"\n",
    "\n",
    "hello\n",
    "hi\n",
    "good morning \n",
    "what are you doing "
   ]
  },
  {
   "cell_type": "code",
   "execution_count": null,
   "id": "86829d40",
   "metadata": {},
   "outputs": [],
   "source": []
  }
 ],
 "metadata": {
  "kernelspec": {
   "display_name": "Python 3 (ipykernel)",
   "language": "python",
   "name": "python3"
  },
  "language_info": {
   "codemirror_mode": {
    "name": "ipython",
    "version": 3
   },
   "file_extension": ".py",
   "mimetype": "text/x-python",
   "name": "python",
   "nbconvert_exporter": "python",
   "pygments_lexer": "ipython3",
   "version": "3.10.9"
  }
 },
 "nbformat": 4,
 "nbformat_minor": 5
}
