{
 "cells": [
  {
   "cell_type": "code",
   "execution_count": 1,
   "id": "36687427",
   "metadata": {},
   "outputs": [
    {
     "name": "stdout",
     "output_type": "stream",
     "text": [
      "Enter first no.67\n",
      "Enter secon no.89\n",
      "Select Operation choice : \n",
      "1. Add\n",
      "2. Subtract\n",
      "3. Multiply\n",
      "4. Division\n",
      "1\n",
      "156\n",
      "repeat yes/nono\n"
     ]
    }
   ],
   "source": [
    "def add(x,y):\n",
    "    return (x+y)\n",
    "\n",
    "def sub(x,y):\n",
    "    return (x-y)\n",
    "\n",
    "def mul(x,y):\n",
    "    return (x*y)\n",
    "def div(x,y):\n",
    "    return (x/y)\n",
    "\n",
    "\n",
    "\n",
    "#ch=0\n",
    "while True:\n",
    "    n1=int(input(\"Enter first no.\"))\n",
    "    n2=int(input(\"Enter secon no.\"))\n",
    "\n",
    "    ch=input(\"Select Operation choice : \\n1. Add\\n2. Subtract\\n3. Multiply\\n4. Division\\n\")\n",
    "\n",
    "    \n",
    "    if(ch=='1'):\n",
    "        print(add(n1,n2))\n",
    "    elif(ch=='2'):\n",
    "        print(sub(n1,n2))\n",
    "    elif(ch=='3'):\n",
    "        print(mul(n1,n2))\n",
    "    elif(ch=='4'):\n",
    "        print(div(n1,n2))\n",
    "    else:\n",
    "        print(\"Invalid Choice\")\n",
    "    repeat=input(\"repeat yes/no\")\n",
    "    if repeat=='no':\n",
    "        break\n"
   ]
  },
  {
   "cell_type": "code",
   "execution_count": null,
   "id": "6a00a136",
   "metadata": {},
   "outputs": [],
   "source": []
  }
 ],
 "metadata": {
  "kernelspec": {
   "display_name": "Python 3 (ipykernel)",
   "language": "python",
   "name": "python3"
  },
  "language_info": {
   "codemirror_mode": {
    "name": "ipython",
    "version": 3
   },
   "file_extension": ".py",
   "mimetype": "text/x-python",
   "name": "python",
   "nbconvert_exporter": "python",
   "pygments_lexer": "ipython3",
   "version": "3.10.9"
  }
 },
 "nbformat": 4,
 "nbformat_minor": 5
}
