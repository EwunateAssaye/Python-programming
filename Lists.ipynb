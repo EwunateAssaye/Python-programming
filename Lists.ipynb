{
 "cells": [
  {
   "cell_type": "code",
   "execution_count": 1,
   "id": "c528ba01",
   "metadata": {},
   "outputs": [
    {
     "name": "stdout",
     "output_type": "stream",
     "text": [
      "3\n",
      "4.5\n",
      "then\n",
      "3\n",
      "4.5\n",
      "then\n",
      "3\n",
      "4.5\n",
      "then\n"
     ]
    },
    {
     "ename": "TypeError",
     "evalue": "'>' not supported between instances of 'str' and 'float'",
     "output_type": "error",
     "traceback": [
      "\u001b[1;31m---------------------------------------------------------------------------\u001b[0m",
      "\u001b[1;31mTypeError\u001b[0m                                 Traceback (most recent call last)",
      "Cell \u001b[1;32mIn[1], line 54\u001b[0m\n\u001b[0;32m     51\u001b[0m list5\u001b[38;5;241m.\u001b[39mextend(list4)\n\u001b[0;32m     52\u001b[0m list5\n\u001b[1;32m---> 54\u001b[0m \u001b[38;5;28;43mmax\u001b[39;49m\u001b[43m(\u001b[49m\u001b[43mlist5\u001b[49m\u001b[43m)\u001b[49m\n\u001b[0;32m     56\u001b[0m list6\u001b[38;5;241m=\u001b[39m[\u001b[38;5;241m3\u001b[39m,\u001b[38;5;241m5\u001b[39m,\u001b[38;5;241m9\u001b[39m,\u001b[38;5;241m70\u001b[39m]\n\u001b[0;32m     58\u001b[0m \u001b[38;5;28mmin\u001b[39m(list6)\n",
      "\u001b[1;31mTypeError\u001b[0m: '>' not supported between instances of 'str' and 'float'"
     ]
    }
   ],
   "source": [
    "# Lists\n",
    "[37,'regular','private','SIS','grade_report',\n",
    " 'grading_scare', 'grade_roster', 'grading_scale',96]\n",
    "\n",
    "x=[37,'regular','private','SIS','grade_report',\n",
    "   'grading_scare', 'grade_roster', 'grading_scale',96]\n",
    "\n",
    "x[6]\n",
    "\n",
    "x[6:]\n",
    "\n",
    "list1=[37,'regular','private','SIS','grade_report', 'grading_scare', 'grade_roster', 'grading_scale',96,[1,2,3,4,5]]\n",
    "\n",
    "list1[-1]\n",
    "\n",
    "list1[-1][2]\n",
    "\n",
    "list2=[78,98,68,108,'alemayehu', 'thank you',list1]\n",
    "\n",
    "list2\n",
    "\n",
    "list2[-1][-1][3]\n",
    "\n",
    "list2.append('good job')\n",
    "\n",
    "list2\n",
    "\n",
    "list2.remove('good job')\n",
    "list2\n",
    "\n",
    "del list2[-1]\n",
    "list2\n",
    "\n",
    "list3=[3,4.5,'then']\n",
    "\n",
    "list4=['which ','one ', 'is ','greater?']\n",
    "\n",
    "list5=list3+list4\n",
    "list5\n",
    "\n",
    "list5=list3*3\n",
    "list5\n",
    "\n",
    "4.5 in list3\n",
    "\n",
    "for i in list5:\n",
    "    print(i)\n",
    "\n",
    "list5.count(3)\n",
    "\n",
    "list5.count(3.8)\n",
    "\n",
    "list5.extend(list4)\n",
    "list5\n",
    "\n",
    "max(list5)\n",
    "\n",
    "list6=[3,5,9,70]\n",
    "\n",
    "min(list6)\n",
    "\n",
    "max(list6)\n",
    "\n",
    "len(list5)\n",
    "\n",
    "list6.insert(3,88)\n",
    "list6\n",
    "\n",
    "list4.index('is')\n",
    "\n",
    "list4.index('is ')"
   ]
  },
  {
   "cell_type": "code",
   "execution_count": null,
   "id": "f8e28a0d",
   "metadata": {},
   "outputs": [],
   "source": []
  }
 ],
 "metadata": {
  "kernelspec": {
   "display_name": "Python 3 (ipykernel)",
   "language": "python",
   "name": "python3"
  },
  "language_info": {
   "codemirror_mode": {
    "name": "ipython",
    "version": 3
   },
   "file_extension": ".py",
   "mimetype": "text/x-python",
   "name": "python",
   "nbconvert_exporter": "python",
   "pygments_lexer": "ipython3",
   "version": "3.10.9"
  }
 },
 "nbformat": 4,
 "nbformat_minor": 5
}
