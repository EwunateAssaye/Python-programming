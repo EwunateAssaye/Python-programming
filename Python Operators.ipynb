{
 "cells": [
  {
   "cell_type": "code",
   "execution_count": 1,
   "id": "4dea86cd",
   "metadata": {},
   "outputs": [
    {
     "ename": "TypeError",
     "evalue": "unsupported operand type(s) for &=: 'float' and 'int'",
     "output_type": "error",
     "traceback": [
      "\u001b[1;31m---------------------------------------------------------------------------\u001b[0m",
      "\u001b[1;31mTypeError\u001b[0m                                 Traceback (most recent call last)",
      "Cell \u001b[1;32mIn[1], line 67\u001b[0m\n\u001b[0;32m     64\u001b[0m a\u001b[38;5;241m*\u001b[39m\u001b[38;5;241m*\u001b[39m\u001b[38;5;241m=\u001b[39m\u001b[38;5;241m5\u001b[39m\n\u001b[0;32m     65\u001b[0m a\n\u001b[1;32m---> 67\u001b[0m a\u001b[38;5;241m&\u001b[39m\u001b[38;5;241m=\u001b[39m\u001b[38;5;241m5\u001b[39m\n\u001b[0;32m     68\u001b[0m a\n\u001b[0;32m     70\u001b[0m a\u001b[38;5;241m|\u001b[39m\u001b[38;5;241m=\u001b[39m\u001b[38;5;241m5\u001b[39m\n",
      "\u001b[1;31mTypeError\u001b[0m: unsupported operand type(s) for &=: 'float' and 'int'"
     ]
    }
   ],
   "source": [
    "x=9\n",
    "\n",
    "y=85\n",
    "\n",
    "x-y\n",
    "\n",
    "x+y\n",
    "\n",
    "x*y\n",
    "\n",
    "x/y\n",
    "\n",
    "x%y\n",
    "\n",
    "x//y\n",
    "\n",
    "x**y\n",
    "\n",
    "x>y\n",
    "\n",
    "x<y\n",
    "\n",
    "x==y\n",
    "\n",
    "x!=y\n",
    "\n",
    "x>=y\n",
    "\n",
    "x<=y\n",
    "\n",
    "x = True\n",
    "y = False\n",
    "\n",
    "x or y\n",
    "\n",
    "x and y\n",
    "\n",
    "not x\n",
    "\n",
    "a = 5\n",
    "a\n",
    "\n",
    "a+=5\n",
    "a\n",
    "\n",
    "a=a+5\n",
    "a\n",
    "\n",
    "a-=5\n",
    "a\n",
    "\n",
    "a*=5\n",
    "a\n",
    "\n",
    "a/=5\n",
    "a\n",
    "\n",
    "a%=5\n",
    "a\n",
    "\n",
    "a//=5\n",
    "a\n",
    "\n",
    "a**=5\n",
    "a\n",
    "\n",
    "a&=5\n",
    "a\n",
    "\n",
    "a|=5\n",
    "a\n",
    "\n",
    "a^=5\n",
    "a"
   ]
  },
  {
   "cell_type": "code",
   "execution_count": null,
   "id": "bfdf1946",
   "metadata": {},
   "outputs": [],
   "source": []
  }
 ],
 "metadata": {
  "kernelspec": {
   "display_name": "Python 3 (ipykernel)",
   "language": "python",
   "name": "python3"
  },
  "language_info": {
   "codemirror_mode": {
    "name": "ipython",
    "version": 3
   },
   "file_extension": ".py",
   "mimetype": "text/x-python",
   "name": "python",
   "nbconvert_exporter": "python",
   "pygments_lexer": "ipython3",
   "version": "3.10.9"
  }
 },
 "nbformat": 4,
 "nbformat_minor": 5
}
