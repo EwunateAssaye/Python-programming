{
 "cells": [
  {
   "cell_type": "code",
   "execution_count": null,
   "id": "0414a1cd",
   "metadata": {},
   "outputs": [],
   "source": [
    "import math\n",
    "pi=math.pi\n",
    "\n",
    "# string\n",
    "'Abebe','kebede', pi, 'alemu'\n",
    "\n",
    "x='hello dear how are you?'\n",
    "\n",
    "x\n",
    "\n",
    "z='good morning'\n",
    "\n",
    "x+z\n",
    "\n",
    "z*3\n",
    "\n",
    "x[8]\n",
    "\n",
    "x[-3]\n",
    "\n",
    "x[4:12]\n",
    "\n",
    "x[4:]\n",
    "\n",
    "x[:10]+x[6:]\n",
    "\n",
    "len(x)\n",
    "\n",
    "'hello ''world'\n",
    "\n",
    "y='Abebe','kebede', pi, 'alemu'\n",
    "\n",
    "y[3]\n",
    "\n",
    "y[-1]"
   ]
  }
 ],
 "metadata": {
  "kernelspec": {
   "display_name": "Python 3 (ipykernel)",
   "language": "python",
   "name": "python3"
  },
  "language_info": {
   "codemirror_mode": {
    "name": "ipython",
    "version": 3
   },
   "file_extension": ".py",
   "mimetype": "text/x-python",
   "name": "python",
   "nbconvert_exporter": "python",
   "pygments_lexer": "ipython3",
   "version": "3.10.9"
  }
 },
 "nbformat": 4,
 "nbformat_minor": 5
}
