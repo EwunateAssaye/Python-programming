{
 "cells": [
  {
   "cell_type": "code",
   "execution_count": null,
   "id": "6b117684",
   "metadata": {},
   "outputs": [],
   "source": [
    "c=(7,'ty','89', 18, 'good')\n",
    "c\n",
    "\n",
    "c1=2,7,9,'uk','et'\n",
    "\n",
    "c1\n",
    "\n",
    "c2=(1,0,'r',c1,c)\n",
    "c2\n",
    "\n",
    "c2[3][3]\n",
    "\n",
    "c2[-2][-1]\n",
    "\n",
    "c2[1:4]\n",
    "\n",
    "c3=c+c1\n",
    "\n",
    "c3\n",
    "\n",
    "c3.count(2)\n",
    "\n",
    "max(c2)\n",
    "\n",
    "c4=(7,1,2,3,4,5)\n",
    "max(c4)\n",
    "\n",
    "sorted(c4)\n",
    "\n",
    "sum(c4)"
   ]
  }
 ],
 "metadata": {
  "kernelspec": {
   "display_name": "Python 3 (ipykernel)",
   "language": "python",
   "name": "python3"
  },
  "language_info": {
   "codemirror_mode": {
    "name": "ipython",
    "version": 3
   },
   "file_extension": ".py",
   "mimetype": "text/x-python",
   "name": "python",
   "nbconvert_exporter": "python",
   "pygments_lexer": "ipython3",
   "version": "3.10.9"
  }
 },
 "nbformat": 4,
 "nbformat_minor": 5
}
