{
 "cells": [
  {
   "cell_type": "code",
   "execution_count": 1,
   "id": "5cc67e96",
   "metadata": {},
   "outputs": [],
   "source": [
    "def add(x, y):\n",
    "    sum=x + y\n",
    "    return sum"
   ]
  },
  {
   "cell_type": "code",
   "execution_count": 2,
   "id": "b43d26d4",
   "metadata": {},
   "outputs": [
    {
     "data": {
      "text/plain": [
       "165"
      ]
     },
     "execution_count": 2,
     "metadata": {},
     "output_type": "execute_result"
    }
   ],
   "source": [
    "add(76,89)"
   ]
  },
  {
   "cell_type": "code",
   "execution_count": 33,
   "id": "210c0ec4",
   "metadata": {},
   "outputs": [],
   "source": [
    "def name(yourname):\n",
    "    print('the name you entered is '+yourname+' do you have any thing to ask?')"
   ]
  },
  {
   "cell_type": "code",
   "execution_count": 34,
   "id": "66ec6aff",
   "metadata": {},
   "outputs": [
    {
     "name": "stdout",
     "output_type": "stream",
     "text": [
      "the name you entered is alex do you have any thing to ask\n"
     ]
    }
   ],
   "source": [
    "name('alex')"
   ]
  },
  {
   "cell_type": "code",
   "execution_count": 31,
   "id": "5337347e",
   "metadata": {},
   "outputs": [],
   "source": [
    "def name():\n",
    "    yrname = input('please enter your name ')\n",
    "    yourname= 'your name is '+ str(yrname)\n",
    "    return yourname"
   ]
  },
  {
   "cell_type": "code",
   "execution_count": 32,
   "id": "5722a1b6",
   "metadata": {},
   "outputs": [
    {
     "name": "stdout",
     "output_type": "stream",
     "text": [
      "please enter your name Ewunate Asssaye Kassaw\n"
     ]
    },
    {
     "data": {
      "text/plain": [
       "'your name is Ewunate Asssaye Kassaw'"
      ]
     },
     "execution_count": 32,
     "metadata": {},
     "output_type": "execute_result"
    }
   ],
   "source": [
    "name()"
   ]
  },
  {
   "cell_type": "code",
   "execution_count": null,
   "id": "fe369c3d",
   "metadata": {},
   "outputs": [],
   "source": []
  },
  {
   "cell_type": "code",
   "execution_count": null,
   "id": "808d0811",
   "metadata": {},
   "outputs": [],
   "source": []
  },
  {
   "cell_type": "code",
   "execution_count": null,
   "id": "16cd2310",
   "metadata": {},
   "outputs": [],
   "source": []
  },
  {
   "cell_type": "code",
   "execution_count": null,
   "id": "8e6eae38",
   "metadata": {},
   "outputs": [],
   "source": []
  },
  {
   "cell_type": "code",
   "execution_count": null,
   "id": "b019a5dd",
   "metadata": {},
   "outputs": [],
   "source": []
  }
 ],
 "metadata": {
  "kernelspec": {
   "display_name": "Python 3 (ipykernel)",
   "language": "python",
   "name": "python3"
  },
  "language_info": {
   "codemirror_mode": {
    "name": "ipython",
    "version": 3
   },
   "file_extension": ".py",
   "mimetype": "text/x-python",
   "name": "python",
   "nbconvert_exporter": "python",
   "pygments_lexer": "ipython3",
   "version": "3.10.9"
  }
 },
 "nbformat": 4,
 "nbformat_minor": 5
}
