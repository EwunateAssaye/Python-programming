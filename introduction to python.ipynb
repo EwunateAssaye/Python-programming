{
 "cells": [
  {
   "cell_type": "code",
   "execution_count": 17,
   "id": "47e2e7f1",
   "metadata": {},
   "outputs": [],
   "source": [
    "x=[37,'regular','private','SIS','grade_report',\n",
    " 'grading_scare', (3,5,25,49),'grade_roster', 'grading_scale',96]"
   ]
  },
  {
   "cell_type": "code",
   "execution_count": 18,
   "id": "e371595b",
   "metadata": {},
   "outputs": [
    {
     "data": {
      "text/plain": [
       "(3, 5, 25, 49)"
      ]
     },
     "execution_count": 18,
     "metadata": {},
     "output_type": "execute_result"
    }
   ],
   "source": [
    "x[-4]"
   ]
  },
  {
   "cell_type": "code",
   "execution_count": 11,
   "id": "e075a35c",
   "metadata": {},
   "outputs": [],
   "source": [
    "# this is a calculator for adding five numbers \n",
    "# hello de\n",
    "# this is adder\n",
    "def add(x,y,z,u,t):\n",
    "    return (x+y+z+u+t)"
   ]
  },
  {
   "cell_type": "code",
   "execution_count": 5,
   "id": "8bdb73ea",
   "metadata": {},
   "outputs": [],
   "source": [
    "y=add(78,56,\n",
    "     76,79,80)"
   ]
  },
  {
   "cell_type": "code",
   "execution_count": 7,
   "id": "4095dc88",
   "metadata": {},
   "outputs": [
    {
     "data": {
      "text/plain": [
       "369"
      ]
     },
     "execution_count": 7,
     "metadata": {},
     "output_type": "execute_result"
    }
   ],
   "source": [
    "'''\n",
    "hello \n",
    "good afternoon\n",
    "how is the training\n",
    "'''"
   ]
  },
  {
   "cell_type": "code",
   "execution_count": 6,
   "id": "c0e9d7c4",
   "metadata": {},
   "outputs": [
    {
     "name": "stdout",
     "output_type": "stream",
     "text": [
      "369\n"
     ]
    }
   ],
   "source": [
    "print(y)"
   ]
  },
  {
   "cell_type": "code",
   "execution_count": 9,
   "id": "9e66f738",
   "metadata": {},
   "outputs": [],
   "source": [
    "z='Ewuntetie'"
   ]
  }
 ],
 "metadata": {
  "kernelspec": {
   "display_name": "Python 3 (ipykernel)",
   "language": "python",
   "name": "python3"
  },
  "language_info": {
   "codemirror_mode": {
    "name": "ipython",
    "version": 3
   },
   "file_extension": ".py",
   "mimetype": "text/x-python",
   "name": "python",
   "nbconvert_exporter": "python",
   "pygments_lexer": "ipython3",
   "version": "3.10.9"
  }
 },
 "nbformat": 4,
 "nbformat_minor": 5
}
