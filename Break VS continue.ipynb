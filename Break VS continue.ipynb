{
 "cells": [
  {
   "cell_type": "code",
   "execution_count": 1,
   "id": "c9d49013",
   "metadata": {},
   "outputs": [
    {
     "name": "stdout",
     "output_type": "stream",
     "text": [
      "10\n",
      "20\n",
      "60\n",
      "70\n",
      "Program Terminated\n"
     ]
    }
   ],
   "source": [
    "for i in [10,20,30,60,70]:\n",
    "    if i==30:\n",
    "        #break\n",
    "        continue\n",
    "    print(i)\n",
    "print(\"Program Terminated\")"
   ]
  },
  {
   "cell_type": "code",
   "execution_count": 2,
   "id": "dc483acb",
   "metadata": {},
   "outputs": [
    {
     "name": "stdout",
     "output_type": "stream",
     "text": [
      "10\n",
      "20\n",
      "Program Terminated\n"
     ]
    }
   ],
   "source": [
    "for i in [10,20,30,60,70]:\n",
    "    if i==30:\n",
    "        break\n",
    "        #continue\n",
    "    print(i)\n",
    "print(\"Program Terminated\")"
   ]
  }
 ],
 "metadata": {
  "kernelspec": {
   "display_name": "Python 3 (ipykernel)",
   "language": "python",
   "name": "python3"
  },
  "language_info": {
   "codemirror_mode": {
    "name": "ipython",
    "version": 3
   },
   "file_extension": ".py",
   "mimetype": "text/x-python",
   "name": "python",
   "nbconvert_exporter": "python",
   "pygments_lexer": "ipython3",
   "version": "3.10.9"
  }
 },
 "nbformat": 4,
 "nbformat_minor": 5
}
