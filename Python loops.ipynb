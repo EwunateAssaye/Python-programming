{
 "cells": [
  {
   "cell_type": "code",
   "execution_count": null,
   "id": "62415664",
   "metadata": {},
   "outputs": [],
   "source": [
    "while 5>2:\n",
    "    print('true')\n",
    "\n",
    "x =0\n",
    "while (x<10):\n",
    "    print('the value of x is ',x)\n",
    "    x+=1\n",
    "\n",
    "x =0\n",
    "while (x<10):\n",
    "    print('the value of x is ',x)\n",
    "    x+=1\n",
    "else:\n",
    "    print('x can not increase any more')\n",
    "\n",
    "x=0\n",
    "for x in range (10):\n",
    "    print ('the value of x is',x)\n",
    "    x+=1\n",
    "\n",
    "z=[1,2,3,4,5,6,7,8,9,10]\n",
    "for x in z:\n",
    "    print ('the value of x is',x)\n",
    "    x+=1\n",
    "\n",
    "z=[1,2,3,4,5,6,7,8,9,10]\n",
    "for x in z:\n",
    "    print ('the value of x is',x)\n",
    "\n",
    "range(10)\n",
    "\n",
    "print(range(10))\n",
    "\n",
    "range(5,10)\n",
    "\n",
    "z=[1,2,3,4,5,6,7,8,9,10]\n",
    "for x in z:\n",
    "    print ('the value of x is',x)\n",
    "    for x in range (5,10):\n",
    "        print('x is greater than 5')\n",
    "\n",
    "\n",
    "x =0\n",
    "while (x<10):\n",
    "    print('the value of x is ',x)\n",
    "    x+=1\n",
    "    while (x>5):\n",
    "        print('x is increasing')"
   ]
  }
 ],
 "metadata": {
  "kernelspec": {
   "display_name": "Python 3 (ipykernel)",
   "language": "python",
   "name": "python3"
  },
  "language_info": {
   "codemirror_mode": {
    "name": "ipython",
    "version": 3
   },
   "file_extension": ".py",
   "mimetype": "text/x-python",
   "name": "python",
   "nbconvert_exporter": "python",
   "pygments_lexer": "ipython3",
   "version": "3.10.9"
  }
 },
 "nbformat": 4,
 "nbformat_minor": 5
}
