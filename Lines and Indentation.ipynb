{
 "cells": [
  {
   "cell_type": "markdown",
   "id": "7367ff89",
   "metadata": {},
   "source": [
    "# Lines and Indentation"
   ]
  },
  {
   "cell_type": "code",
   "execution_count": 1,
   "id": "d3cf6216",
   "metadata": {},
   "outputs": [
    {
     "name": "stdout",
     "output_type": "stream",
     "text": [
      "True\n"
     ]
    }
   ],
   "source": [
    "if True:\n",
    "    print(True)\n",
    "else:\n",
    "    print(False)"
   ]
  },
  {
   "cell_type": "code",
   "execution_count": 2,
   "id": "ebd8bdc4",
   "metadata": {},
   "outputs": [
    {
     "ename": "NameError",
     "evalue": "name 'true' is not defined",
     "output_type": "error",
     "traceback": [
      "\u001b[1;31m---------------------------------------------------------------------------\u001b[0m",
      "\u001b[1;31mNameError\u001b[0m                                 Traceback (most recent call last)",
      "Cell \u001b[1;32mIn[2], line 2\u001b[0m\n\u001b[0;32m      1\u001b[0m \u001b[38;5;28;01mif\u001b[39;00m \u001b[38;5;28;01mTrue\u001b[39;00m:\n\u001b[1;32m----> 2\u001b[0m     \u001b[38;5;28mprint\u001b[39m(\u001b[43mtrue\u001b[49m)\n",
      "\u001b[1;31mNameError\u001b[0m: name 'true' is not defined"
     ]
    }
   ],
   "source": [
    "if True:\n",
    "    print(true)"
   ]
  },
  {
   "cell_type": "code",
   "execution_count": null,
   "id": "595101d0",
   "metadata": {},
   "outputs": [],
   "source": []
  },
  {
   "cell_type": "markdown",
   "id": "6c343c1a",
   "metadata": {},
   "source": [
    "# Multi-Line Statements"
   ]
  },
  {
   "cell_type": "code",
   "execution_count": 3,
   "id": "841538e4",
   "metadata": {},
   "outputs": [],
   "source": [
    "item1=item2=item3=8\n",
    "total = item1+\\\n",
    "        item2+\\\n",
    "        item3\n",
    "total\n",
    "days=('monday','tuesday',\n",
    "     'friday', 'sunday')\n",
    "days=['monday','tuesday',\n",
    "     'friday', 'sunday']"
   ]
  },
  {
   "cell_type": "code",
   "execution_count": null,
   "id": "4baf8073",
   "metadata": {},
   "outputs": [],
   "source": []
  }
 ],
 "metadata": {
  "kernelspec": {
   "display_name": "Python 3 (ipykernel)",
   "language": "python",
   "name": "python3"
  },
  "language_info": {
   "codemirror_mode": {
    "name": "ipython",
    "version": 3
   },
   "file_extension": ".py",
   "mimetype": "text/x-python",
   "name": "python",
   "nbconvert_exporter": "python",
   "pygments_lexer": "ipython3",
   "version": "3.10.9"
  }
 },
 "nbformat": 4,
 "nbformat_minor": 5
}
