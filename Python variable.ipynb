{
 "cells": [
  {
   "cell_type": "markdown",
   "id": "d2e89bb6",
   "metadata": {},
   "source": [
    "# Python variable"
   ]
  },
  {
   "cell_type": "code",
   "execution_count": 1,
   "id": "bade9292",
   "metadata": {},
   "outputs": [
    {
     "ename": "NameError",
     "evalue": "name 'j' is not defined",
     "output_type": "error",
     "traceback": [
      "\u001b[1;31m---------------------------------------------------------------------------\u001b[0m",
      "\u001b[1;31mNameError\u001b[0m                                 Traceback (most recent call last)",
      "Cell \u001b[1;32mIn[1], line 4\u001b[0m\n\u001b[0;32m      1\u001b[0m \u001b[38;5;66;03m# Numbers\u001b[39;00m\n\u001b[0;32m      2\u001b[0m \u001b[38;5;241m43\u001b[39m\n\u001b[1;32m----> 4\u001b[0m \u001b[38;5;241m1\u001b[39m\u001b[38;5;241m+\u001b[39m\u001b[43mj\u001b[49m\u001b[38;5;241m+\u001b[39m\u001b[38;5;241m3\u001b[39mJ\n\u001b[0;32m      6\u001b[0m (\u001b[38;5;241m1\u001b[39m\u001b[38;5;241m+\u001b[39m\u001b[38;5;241m1\u001b[39mj\u001b[38;5;241m+\u001b[39m\u001b[38;5;241m3\u001b[39mJ)\u001b[38;5;241m*\u001b[39m\u001b[38;5;241m*\u001b[39m\u001b[38;5;241m2\u001b[39m\n\u001b[0;32m      8\u001b[0m x\u001b[38;5;241m=\u001b[39m(\u001b[38;5;241m1\u001b[39m\u001b[38;5;241m+\u001b[39m\u001b[38;5;241m1\u001b[39mj\u001b[38;5;241m+\u001b[39m\u001b[38;5;241m3\u001b[39mJ)\u001b[38;5;241m*\u001b[39m\u001b[38;5;241m*\u001b[39m\u001b[38;5;241m2\u001b[39m\n",
      "\u001b[1;31mNameError\u001b[0m: name 'j' is not defined"
     ]
    }
   ],
   "source": [
    "# Numbers\n",
    "43\n",
    "\n",
    "1+j+3J\n",
    "\n",
    "(1+1j+3J)**2\n",
    "\n",
    "x=(1+1j+3J)**2\n",
    "\n",
    "x.real\n",
    "\n",
    "x.imag\n",
    "\n",
    "abs((1+1j+3J)**2)\n",
    "\n",
    "abs(-42)\n",
    "\n",
    "import math\n",
    "math.ceil(4.3)\n",
    "\n",
    "import math\n",
    "math.floor(4.3)\n",
    "\n",
    "import math\n",
    "math.pi\n",
    "\n",
    "x=[7,9,11,13,15,16,17,18,19,10,49]\n",
    "\n",
    "max(x)\n",
    "\n",
    "min(x)\n",
    "\n",
    "pow(7,4)\n",
    "\n",
    "round(pi,3)\n",
    "\n",
    "math.sqrt(pi)"
   ]
  },
  {
   "cell_type": "code",
   "execution_count": null,
   "id": "a2766aeb",
   "metadata": {},
   "outputs": [],
   "source": []
  }
 ],
 "metadata": {
  "kernelspec": {
   "display_name": "Python 3 (ipykernel)",
   "language": "python",
   "name": "python3"
  },
  "language_info": {
   "codemirror_mode": {
    "name": "ipython",
    "version": 3
   },
   "file_extension": ".py",
   "mimetype": "text/x-python",
   "name": "python",
   "nbconvert_exporter": "python",
   "pygments_lexer": "ipython3",
   "version": "3.10.9"
  }
 },
 "nbformat": 4,
 "nbformat_minor": 5
}
