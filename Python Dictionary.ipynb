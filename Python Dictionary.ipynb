{
 "cells": [
  {
   "cell_type": "code",
   "execution_count": null,
   "id": "834bf153",
   "metadata": {},
   "outputs": [],
   "source": [
    "dict={'name':['ewunet','alex'],\n",
    "     'job':'Lecturer'}\n",
    "dict\n",
    "\n",
    "dict['name']\n",
    "\n",
    "dict['name'][1]\n",
    "\n",
    "dict.get('name')\n",
    "\n",
    "dict['name']=['Alex', 'Sami']\n",
    "dict\n",
    "\n",
    "dict.pop('job')\n",
    "\n",
    "dict.popitem()\n",
    "\n",
    "dict\n",
    "\n",
    "dict={'name':['Alex','Samuel','Ewunet'],'job':['Lecturer','mechanic','Lecturer'],1:16,'id':198777, 'color':'blue'}\n",
    "\n",
    "dict\n",
    "\n",
    "dict.popitem()\n",
    "\n",
    "dict\n",
    "\n",
    "del dict['id']\n",
    "\n",
    "dict\n",
    "\n",
    "dict.clear()\n",
    "dict\n",
    "\n",
    "del dict"
   ]
  }
 ],
 "metadata": {
  "kernelspec": {
   "display_name": "Python 3 (ipykernel)",
   "language": "python",
   "name": "python3"
  },
  "language_info": {
   "codemirror_mode": {
    "name": "ipython",
    "version": 3
   },
   "file_extension": ".py",
   "mimetype": "text/x-python",
   "name": "python",
   "nbconvert_exporter": "python",
   "pygments_lexer": "ipython3",
   "version": "3.10.9"
  }
 },
 "nbformat": 4,
 "nbformat_minor": 5
}
