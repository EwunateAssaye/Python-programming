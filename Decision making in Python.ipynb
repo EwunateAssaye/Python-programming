{
 "cells": [
  {
   "cell_type": "code",
   "execution_count": 1,
   "id": "58e766a0",
   "metadata": {},
   "outputs": [
    {
     "name": "stdout",
     "output_type": "stream",
     "text": [
      "x is large\n",
      "x is large\n",
      "x is large\n",
      "x is between 10 and 100\n"
     ]
    }
   ],
   "source": [
    "x=10\n",
    "if x>5:\n",
    "    print('x is large')\n",
    "\n",
    "x=10\n",
    "if x>5:\n",
    "    print('x is large')\n",
    "else:\n",
    "    print('x is small')\n",
    "\n",
    "x=10\n",
    "if x>5:\n",
    "    print('x is large')\n",
    "elif x>1:\n",
    "    print('x is posetive intiger')\n",
    "elif x<0:\n",
    "    print('x is negative intiger')\n",
    "elif x==1:\n",
    "    print('x is 1')\n",
    "else:\n",
    "    print('x is small fraction')\n",
    "\n",
    "# x=10\n",
    "if x>5:\n",
    "    if x>100:\n",
    "        print('x is large')\n",
    "    else:\n",
    "        print('x is between 10 and 100')\n",
    "elif x>1:\n",
    "    print('x is posetive intiger')\n",
    "elif x<0:\n",
    "    print('x is negative intiger')\n",
    "elif x==1:\n",
    "    print('x is 1')\n",
    "else:\n",
    "    print('x is small fraction')"
   ]
  },
  {
   "cell_type": "code",
   "execution_count": null,
   "id": "f56bf26e",
   "metadata": {},
   "outputs": [],
   "source": []
  }
 ],
 "metadata": {
  "kernelspec": {
   "display_name": "Python 3 (ipykernel)",
   "language": "python",
   "name": "python3"
  },
  "language_info": {
   "codemirror_mode": {
    "name": "ipython",
    "version": 3
   },
   "file_extension": ".py",
   "mimetype": "text/x-python",
   "name": "python",
   "nbconvert_exporter": "python",
   "pygments_lexer": "ipython3",
   "version": "3.10.9"
  }
 },
 "nbformat": 4,
 "nbformat_minor": 5
}
