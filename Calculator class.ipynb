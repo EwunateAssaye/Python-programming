{
 "cells": [
  {
   "cell_type": "code",
   "execution_count": 9,
   "id": "c2214e28",
   "metadata": {},
   "outputs": [],
   "source": [
    "class Calculator:\n",
    "    def add(self, a, b):\n",
    "        return a + b\n",
    "    \n",
    "    def subtract(self, a, b):\n",
    "        return a - b\n",
    "    \n",
    "    def multiply(self, a, b):\n",
    "        return a * b\n",
    "    \n",
    "    def divide(self, a, b):\n",
    "        if b == 0:\n",
    "            return \"Error: Division by zero is not allowed.\"\n",
    "        return a / b\n"
   ]
  },
  {
   "cell_type": "code",
   "execution_count": 10,
   "id": "2dc22473",
   "metadata": {},
   "outputs": [
    {
     "name": "stdout",
     "output_type": "stream",
     "text": [
      "Addition: 15\n",
      "Subtraction: 5\n",
      "Multiplication: 50\n",
      "Division: 2.0\n",
      "Division by zero: Error: Division by zero is not allowed.\n"
     ]
    }
   ],
   "source": [
    "# Create an instance of the Calculator class\n",
    "calc = Calculator()\n",
    "\n",
    "# Perform some calculations\n",
    "print(\"Addition:\", calc.add(10, 5))         # Output: 15\n",
    "print(\"Subtraction:\", calc.subtract(10, 5)) # Output: 5\n",
    "print(\"Multiplication:\", calc.multiply(10, 5)) # Output: 50\n",
    "print(\"Division:\", calc.divide(10, 5))      # Output: 2.0\n",
    "print(\"Division by zero:\", calc.divide(10, 0)) # Output: Error: Division by zero is not allowed.\n"
   ]
  },
  {
   "cell_type": "code",
   "execution_count": null,
   "id": "859eaa3c",
   "metadata": {},
   "outputs": [],
   "source": []
  }
 ],
 "metadata": {
  "kernelspec": {
   "display_name": "Python 3 (ipykernel)",
   "language": "python",
   "name": "python3"
  },
  "language_info": {
   "codemirror_mode": {
    "name": "ipython",
    "version": 3
   },
   "file_extension": ".py",
   "mimetype": "text/x-python",
   "name": "python",
   "nbconvert_exporter": "python",
   "pygments_lexer": "ipython3",
   "version": "3.10.9"
  }
 },
 "nbformat": 4,
 "nbformat_minor": 5
}
